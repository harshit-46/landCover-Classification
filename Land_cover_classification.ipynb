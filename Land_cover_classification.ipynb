{
  "nbformat": 4,
  "nbformat_minor": 0,
  "metadata": {
    "colab": {
      "provenance": [],
      "authorship_tag": "ABX9TyPSR1W+qEFS5UN2cpau4gdP",
      "include_colab_link": true
    },
    "kernelspec": {
      "name": "python3",
      "display_name": "Python 3"
    },
    "language_info": {
      "name": "python"
    }
  },
  "cells": [
    {
      "cell_type": "markdown",
      "metadata": {
        "id": "view-in-github",
        "colab_type": "text"
      },
      "source": [
        "<a href=\"https://colab.research.google.com/github/harshit-46/landCover-Classification/blob/main/Land_cover_classification.ipynb\" target=\"_parent\"><img src=\"https://colab.research.google.com/assets/colab-badge.svg\" alt=\"Open In Colab\"/></a>"
      ]
    },
    {
      "cell_type": "markdown",
      "source": [
        "Import Packages that are required."
      ],
      "metadata": {
        "id": "P7F1e-CE0Bky"
      }
    },
    {
      "cell_type": "markdown",
      "source": [
        "Clustering ( Classification of Land )"
      ],
      "metadata": {
        "id": "ezWAvQZh3t4H"
      }
    },
    {
      "cell_type": "markdown",
      "source": [
        "Authenticate and Initalize google earth engine : -"
      ],
      "metadata": {
        "id": "r2AelF0u3xZW"
      }
    },
    {
      "cell_type": "code",
      "source": [
        "# Import google earth engine\n",
        "import ee\n",
        "\n",
        "# Authenticate\n",
        "ee.Authenticate()\n",
        "\n",
        "# Initialize the library\n",
        "ee.Initialize(project='land-cover-miniproject')"
      ],
      "metadata": {
        "id": "INAU8boV35dT"
      },
      "execution_count": 8,
      "outputs": []
    },
    {
      "cell_type": "code",
      "source": [
        "# CART supervised classification with landsat\n",
        "# ROI\n",
        "roi = ee.Geometry.Point([-122.26, 37.87])\n",
        "\n",
        "# Load landsat data\n",
        "image = ee.ImageCollection('LANDSAT/LC08/C02/T1_L2')\\\n",
        ".filterDate('2017-01-01', '2017-12-31')\\\n",
        ".filterBounds(roi)\\\n",
        ".sort('CLOUD_COVER')\\\n",
        ".first()\n",
        "\n",
        "visParamsTrue = {'bands': ['SR_B4', 'SR_B3', 'SR_B2'], 'min': 0, 'max': 3000, 'gamma' : 1.4}"
      ],
      "metadata": {
        "id": "_z757mW7aOUd"
      },
      "execution_count": 9,
      "outputs": []
    },
    {
      "cell_type": "code",
      "source": [
        "# Import training data\n",
        "training = ee.FeatureCollection('users/midekisa/Train_Cover_CA')\n",
        "\n",
        "label = 'Class'\n",
        "bands = ['SR_B1','SR_B2','SR_B3','SR_B4','SR_B5','SR_B7']\n",
        "input = image.select(bands)\n",
        "\n",
        "# Overlay the points on the imagery to get training\n",
        "trainImage = input.sampleRegions(**{\n",
        "  'collection': training,\n",
        "  'properties': [label],\n",
        "  'scale': 30\n",
        "})\n",
        "\n",
        "trainingData = trainImage.randomColumn()\n",
        "trainSet = trainingData.filter(ee.Filter.lt('random', 0.8))\n",
        "testSet = trainingData.filter(ee.Filter.gte('random', 0.8))"
      ],
      "metadata": {
        "id": "k8Psg-z9ejal"
      },
      "execution_count": 10,
      "outputs": []
    },
    {
      "cell_type": "code",
      "source": [
        "# Classification Model\n",
        "classifier = ee.Classifier.smileCart().train(trainSet, label, bands)\n",
        "\n",
        "# Classify the image\n",
        "classified = input.classify(classifier)\n",
        "\n",
        "# Define the Palette for the classification\n",
        "landcoverPalette = [\n",
        "    '#0c2c84', #water (BLUE)\n",
        "    '#e31a1c', #urban (RED)\n",
        "    '#005a32', #forest (GREEN)\n",
        "    '#FF8000', #crop (YELLOW)\n",
        "    '#969696' #barren (GREY)\n",
        "]"
      ],
      "metadata": {
        "id": "rt1mI8akn6Ap"
      },
      "execution_count": 11,
      "outputs": []
    },
    {
      "cell_type": "code",
      "source": [
        "# Import the folium library\n",
        "import folium\n",
        "\n",
        "# Define a method for displaying Earth Engine Image tiles to folium map\n",
        "def add_ee_layer(self, ee_image_object, vis_params, name):\n",
        "    map_id_dict = ee.Image(ee_image_object).getMapId(vis_params)\n",
        "    folium.raster_layers.TileLayer(\n",
        "        tiles = map_id_dict['tile_fetcher'].url_format,\n",
        "        attr = 'Map Data &copy; <a href=\"https://earthengine.google.com\">Google Earth Engine</a>',\n",
        "        name = name,\n",
        "        overlay = True,\n",
        "        control = True,\n",
        "    ).add_to(self)\n",
        "\n",
        "# Add EE drawing method to folium\n",
        "folium.Map.add_ee_layer = add_ee_layer\n",
        "\n",
        "# Create a folium Map object\n",
        "my_map = folium.Map(location = [38, -124], zoom_start = 8)\n",
        "\n",
        "# Add the layer to the map object\n",
        "my_map.add_ee_layer(image, visParamsTrue, 'Landsat 2017')\n",
        "my_map.add_ee_layer(classified, {'palette': landcoverPalette, 'min': 0, 'max': 4}, 'Classification')\n",
        "\n",
        "# Add a layer control panel to the map\n",
        "my_map.add_child(folium.LayerControl())\n",
        "\n",
        "# Display the map\n",
        "display(my_map)"
      ],
      "metadata": {
        "colab": {
          "base_uri": "https://localhost:8080/",
          "height": 865
        },
        "id": "XSjZI8iTpgL-",
        "outputId": "4f763270-258a-4053-af9b-0e2c48794625"
      },
      "execution_count": 12,
      "outputs": [
        {
          "output_type": "display_data",
          "data": {
            "text/plain": [
              "<folium.folium.Map at 0x7f0341af0e20>"
            ],
            "text/html": [
              "<div style=\"width:100%;\"><div style=\"position:relative;width:100%;height:0;padding-bottom:60%;\"><span style=\"color:#565656\">Make this Notebook Trusted to load map: File -> Trust Notebook</span><iframe srcdoc=\"&lt;!DOCTYPE html&gt;\n",
              "&lt;html&gt;\n",
              "&lt;head&gt;\n",
              "    \n",
              "    &lt;meta http-equiv=&quot;content-type&quot; content=&quot;text/html; charset=UTF-8&quot; /&gt;\n",
              "    \n",
              "        &lt;script&gt;\n",
              "            L_NO_TOUCH = false;\n",
              "            L_DISABLE_3D = false;\n",
              "        &lt;/script&gt;\n",
              "    \n",
              "    &lt;style&gt;html, body {width: 100%;height: 100%;margin: 0;padding: 0;}&lt;/style&gt;\n",
              "    &lt;style&gt;#map {position:absolute;top:0;bottom:0;right:0;left:0;}&lt;/style&gt;\n",
              "    &lt;script src=&quot;https://cdn.jsdelivr.net/npm/leaflet@1.9.3/dist/leaflet.js&quot;&gt;&lt;/script&gt;\n",
              "    &lt;script src=&quot;https://code.jquery.com/jquery-3.7.1.min.js&quot;&gt;&lt;/script&gt;\n",
              "    &lt;script src=&quot;https://cdn.jsdelivr.net/npm/bootstrap@5.2.2/dist/js/bootstrap.bundle.min.js&quot;&gt;&lt;/script&gt;\n",
              "    &lt;script src=&quot;https://cdnjs.cloudflare.com/ajax/libs/Leaflet.awesome-markers/2.0.2/leaflet.awesome-markers.js&quot;&gt;&lt;/script&gt;\n",
              "    &lt;link rel=&quot;stylesheet&quot; href=&quot;https://cdn.jsdelivr.net/npm/leaflet@1.9.3/dist/leaflet.css&quot;/&gt;\n",
              "    &lt;link rel=&quot;stylesheet&quot; href=&quot;https://cdn.jsdelivr.net/npm/bootstrap@5.2.2/dist/css/bootstrap.min.css&quot;/&gt;\n",
              "    &lt;link rel=&quot;stylesheet&quot; href=&quot;https://netdna.bootstrapcdn.com/bootstrap/3.0.0/css/bootstrap-glyphicons.css&quot;/&gt;\n",
              "    &lt;link rel=&quot;stylesheet&quot; href=&quot;https://cdn.jsdelivr.net/npm/@fortawesome/fontawesome-free@6.2.0/css/all.min.css&quot;/&gt;\n",
              "    &lt;link rel=&quot;stylesheet&quot; href=&quot;https://cdnjs.cloudflare.com/ajax/libs/Leaflet.awesome-markers/2.0.2/leaflet.awesome-markers.css&quot;/&gt;\n",
              "    &lt;link rel=&quot;stylesheet&quot; href=&quot;https://cdn.jsdelivr.net/gh/python-visualization/folium/folium/templates/leaflet.awesome.rotate.min.css&quot;/&gt;\n",
              "    \n",
              "            &lt;meta name=&quot;viewport&quot; content=&quot;width=device-width,\n",
              "                initial-scale=1.0, maximum-scale=1.0, user-scalable=no&quot; /&gt;\n",
              "            &lt;style&gt;\n",
              "                #map_c239dc5133026cfccbd0c2da0a0d0dd1 {\n",
              "                    position: relative;\n",
              "                    width: 100.0%;\n",
              "                    height: 100.0%;\n",
              "                    left: 0.0%;\n",
              "                    top: 0.0%;\n",
              "                }\n",
              "                .leaflet-container { font-size: 1rem; }\n",
              "            &lt;/style&gt;\n",
              "        \n",
              "&lt;/head&gt;\n",
              "&lt;body&gt;\n",
              "    \n",
              "    \n",
              "            &lt;div class=&quot;folium-map&quot; id=&quot;map_c239dc5133026cfccbd0c2da0a0d0dd1&quot; &gt;&lt;/div&gt;\n",
              "        \n",
              "&lt;/body&gt;\n",
              "&lt;script&gt;\n",
              "    \n",
              "    \n",
              "            var map_c239dc5133026cfccbd0c2da0a0d0dd1 = L.map(\n",
              "                &quot;map_c239dc5133026cfccbd0c2da0a0d0dd1&quot;,\n",
              "                {\n",
              "                    center: [38.0, -124.0],\n",
              "                    crs: L.CRS.EPSG3857,\n",
              "                    ...{\n",
              "  &quot;zoom&quot;: 8,\n",
              "  &quot;zoomControl&quot;: true,\n",
              "  &quot;preferCanvas&quot;: false,\n",
              "}\n",
              "\n",
              "                }\n",
              "            );\n",
              "\n",
              "            \n",
              "\n",
              "        \n",
              "    \n",
              "            var tile_layer_85ad2105572a24cc6506f9a4bc456b16 = L.tileLayer(\n",
              "                &quot;https://tile.openstreetmap.org/{z}/{x}/{y}.png&quot;,\n",
              "                {\n",
              "  &quot;minZoom&quot;: 0,\n",
              "  &quot;maxZoom&quot;: 19,\n",
              "  &quot;maxNativeZoom&quot;: 19,\n",
              "  &quot;noWrap&quot;: false,\n",
              "  &quot;attribution&quot;: &quot;\\u0026copy; \\u003ca href=\\&quot;https://www.openstreetmap.org/copyright\\&quot;\\u003eOpenStreetMap\\u003c/a\\u003e contributors&quot;,\n",
              "  &quot;subdomains&quot;: &quot;abc&quot;,\n",
              "  &quot;detectRetina&quot;: false,\n",
              "  &quot;tms&quot;: false,\n",
              "  &quot;opacity&quot;: 1,\n",
              "}\n",
              "\n",
              "            );\n",
              "        \n",
              "    \n",
              "            tile_layer_85ad2105572a24cc6506f9a4bc456b16.addTo(map_c239dc5133026cfccbd0c2da0a0d0dd1);\n",
              "        \n",
              "    \n",
              "            var tile_layer_c7f15bccd4a2e73554d8548ce0baf22d = L.tileLayer(\n",
              "                &quot;https://earthengine.googleapis.com/v1/projects/land-cover-miniproject/maps/45c57af4dba9c22c8cd0d655431e0e41-7cb4a5c7072465882f049a16c663c226/tiles/{z}/{x}/{y}&quot;,\n",
              "                {\n",
              "  &quot;minZoom&quot;: 0,\n",
              "  &quot;maxZoom&quot;: 18,\n",
              "  &quot;maxNativeZoom&quot;: 18,\n",
              "  &quot;noWrap&quot;: false,\n",
              "  &quot;attribution&quot;: &quot;Map Data \\u0026copy; \\u003ca href=\\&quot;https://earthengine.google.com\\&quot;\\u003eGoogle Earth Engine\\u003c/a\\u003e&quot;,\n",
              "  &quot;subdomains&quot;: &quot;abc&quot;,\n",
              "  &quot;detectRetina&quot;: false,\n",
              "  &quot;tms&quot;: false,\n",
              "  &quot;opacity&quot;: 1,\n",
              "}\n",
              "\n",
              "            );\n",
              "        \n",
              "    \n",
              "            tile_layer_c7f15bccd4a2e73554d8548ce0baf22d.addTo(map_c239dc5133026cfccbd0c2da0a0d0dd1);\n",
              "        \n",
              "    \n",
              "            var tile_layer_59c4115f124c855457bd175361530b55 = L.tileLayer(\n",
              "                &quot;https://earthengine.googleapis.com/v1/projects/land-cover-miniproject/maps/ee3c41460ad4284fc712821127ee0198-0e4595054035520edeeb5d05cd9f8736/tiles/{z}/{x}/{y}&quot;,\n",
              "                {\n",
              "  &quot;minZoom&quot;: 0,\n",
              "  &quot;maxZoom&quot;: 18,\n",
              "  &quot;maxNativeZoom&quot;: 18,\n",
              "  &quot;noWrap&quot;: false,\n",
              "  &quot;attribution&quot;: &quot;Map Data \\u0026copy; \\u003ca href=\\&quot;https://earthengine.google.com\\&quot;\\u003eGoogle Earth Engine\\u003c/a\\u003e&quot;,\n",
              "  &quot;subdomains&quot;: &quot;abc&quot;,\n",
              "  &quot;detectRetina&quot;: false,\n",
              "  &quot;tms&quot;: false,\n",
              "  &quot;opacity&quot;: 1,\n",
              "}\n",
              "\n",
              "            );\n",
              "        \n",
              "    \n",
              "            tile_layer_59c4115f124c855457bd175361530b55.addTo(map_c239dc5133026cfccbd0c2da0a0d0dd1);\n",
              "        \n",
              "    \n",
              "            var layer_control_840aec82e72c7f0bfc2bf375498ec74f_layers = {\n",
              "                base_layers : {\n",
              "                    &quot;openstreetmap&quot; : tile_layer_85ad2105572a24cc6506f9a4bc456b16,\n",
              "                },\n",
              "                overlays :  {\n",
              "                    &quot;Landsat 2017&quot; : tile_layer_c7f15bccd4a2e73554d8548ce0baf22d,\n",
              "                    &quot;Classification&quot; : tile_layer_59c4115f124c855457bd175361530b55,\n",
              "                },\n",
              "            };\n",
              "            let layer_control_840aec82e72c7f0bfc2bf375498ec74f = L.control.layers(\n",
              "                layer_control_840aec82e72c7f0bfc2bf375498ec74f_layers.base_layers,\n",
              "                layer_control_840aec82e72c7f0bfc2bf375498ec74f_layers.overlays,\n",
              "                {\n",
              "  &quot;position&quot;: &quot;topright&quot;,\n",
              "  &quot;collapsed&quot;: true,\n",
              "  &quot;autoZIndex&quot;: true,\n",
              "}\n",
              "            ).addTo(map_c239dc5133026cfccbd0c2da0a0d0dd1);\n",
              "\n",
              "        \n",
              "&lt;/script&gt;\n",
              "&lt;/html&gt;\" style=\"position:absolute;width:100%;height:100%;left:0;top:0;border:none !important;\" allowfullscreen webkitallowfullscreen mozallowfullscreen></iframe></div></div>"
            ]
          },
          "metadata": {}
        }
      ]
    }
  ]
}